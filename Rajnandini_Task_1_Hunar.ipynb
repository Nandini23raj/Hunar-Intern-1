{
  "nbformat": 4,
  "nbformat_minor": 0,
  "metadata": {
    "colab": {
      "provenance": []
    },
    "kernelspec": {
      "name": "python3",
      "display_name": "Python 3"
    },
    "language_info": {
      "name": "python"
    }
  },
  "cells": [
    {
      "cell_type": "code",
      "execution_count": 2,
      "metadata": {
        "colab": {
          "base_uri": "https://localhost:8080/"
        },
        "id": "qjQqvSYJwYgn",
        "outputId": "af04e3b5-08a9-446a-bce7-e50b715df282"
      },
      "outputs": [
        {
          "output_type": "stream",
          "name": "stdout",
          "text": [
            "Enter a password to check its strength: @nandini23\n",
            "The password strength is: Okay\n"
          ]
        }
      ],
      "source": [
        "import re\n",
        "\n",
        "def check_password_strength(password):\n",
        "    # Define password strength criteria\n",
        "    length_criteria = len(password) >= 8\n",
        "    uppercase_criteria = bool(re.search(r'[A-Z]', password))\n",
        "    lowercase_criteria = bool(re.search(r'[a-z]', password))\n",
        "    digit_criteria = bool(re.search(r'[0-9]', password))\n",
        "    special_char_criteria = bool(re.search(r'[\\W_]', password))\n",
        "\n",
        "    # Check number of criteria met\n",
        "    criteria_met = sum([length_criteria, uppercase_criteria, lowercase_criteria, digit_criteria, special_char_criteria])\n",
        "\n",
        "    # Determine password strength\n",
        "    if criteria_met <= 2:\n",
        "        return \"Weak\"\n",
        "    elif criteria_met == 3 or criteria_met == 4:\n",
        "        return \"Okay\"\n",
        "    elif criteria_met == 5:\n",
        "        return \"Strong\"\n",
        "\n",
        "# Test the function\n",
        "password = input(\"Enter a password to check its strength: \")\n",
        "strength = check_password_strength(password)\n",
        "print(f\"The password strength is: {strength}\")\n"
      ]
    }
  ]
}